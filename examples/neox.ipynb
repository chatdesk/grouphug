{
 "cells": [
  {
   "cell_type": "markdown",
   "id": "a1b50547-7eca-48e4-b73d-bb046ac882aa",
   "metadata": {},
   "source": [
    "# This demo shows how to train GPT-NeoX from scratch"
   ]
  },
  {
   "cell_type": "code",
   "execution_count": null,
   "id": "96963a2d-60ce-4326-b1e6-18c4c64cba1b",
   "metadata": {},
   "outputs": [],
   "source": [
    "import sys\n",
    "\n",
    "sys.path.append(\"..\")  # ensure we can run examples as-is in the package's poetry env"
   ]
  },
  {
   "cell_type": "code",
   "execution_count": null,
   "id": "fc4f7a95-1b1d-476d-a7a5-420fa28926c7",
   "metadata": {},
   "outputs": [],
   "source": [
    "import pandas as pd\n",
    "import torch\n",
    "import transformers\n",
    "from datasets import load_dataset\n",
    "from transformers import (\n",
    "    AutoConfig,\n",
    "    AutoTokenizer,\n",
    "    DebertaPreTrainedModel,\n",
    "    GPTNeoXConfig,\n",
    "    GPTNeoXPreTrainedModel,\n",
    "    TrainingArguments,\n",
    ")\n",
    "from utils import compute_classification_metrics\n",
    "\n",
    "from grouphug import AutoMultiTaskModel, ClassificationHeadConfig, DatasetFormatter, LMHeadConfig, MultiTaskTrainer"
   ]
  },
  {
   "cell_type": "code",
   "execution_count": null,
   "id": "7fb7da8e-7208-4ae8-95aa-e5c506965ca4",
   "metadata": {},
   "outputs": [],
   "source": [
    "config = GPTNeoXConfig(\n",
    "    hidden_size=768, intermediate_size=3072, num_attention_heads=12, num_hidden_layers=12, is_decoder=True\n",
    ")"
   ]
  },
  {
   "cell_type": "code",
   "execution_count": null,
   "id": "149b85fa-2b54-41ba-aaaa-a383a533cce7",
   "metadata": {},
   "outputs": [],
   "source": [
    "tweet_emotion = load_dataset(\"tweet_eval\", \"emotion\").rename_column(\"label\", \"emotion\")\n",
    "wiki_data = load_dataset(\"wikitext\", \"wikitext-2-v1\")\n",
    "\n",
    "tokenizer = AutoTokenizer.from_pretrained(\"EleutherAI/gpt-neox-20b\")\n",
    "formatter = DatasetFormatter().tokenize()\n",
    "data = formatter.apply(tweet_emotion, tokenizer=tokenizer)"
   ]
  },
  {
   "cell_type": "code",
   "execution_count": null,
   "id": "787e3d8f-11b1-4b73-ba37-aa5f5ece2258",
   "metadata": {},
   "outputs": [],
   "source": [
    "head_configs = [\n",
    "    LMHeadConfig(causal_language_modelling=True),\n",
    "    ClassificationHeadConfig.from_data(data, \"emotion\", classifier_hidden_size=32),\n",
    "]\n",
    "model = AutoMultiTaskModel.from_config(config, head_configs=head_configs, tokenizer=tokenizer, formatter=formatter)"
   ]
  },
  {
   "cell_type": "code",
   "execution_count": null,
   "id": "bcf39639-bc5c-411b-9a79-364d48b2fd0b",
   "metadata": {},
   "outputs": [],
   "source": [
    "training_args = TrainingArguments(\n",
    "    output_dir=\"../output\",\n",
    "    evaluation_strategy=\"epoch\",\n",
    "    num_train_epochs=10,\n",
    "    save_strategy=\"no\",\n",
    ")\n",
    "trainer = MultiTaskTrainer(\n",
    "    model=model,\n",
    "    tokenizer=tokenizer,\n",
    "    train_data=data[:, \"train\"],\n",
    "    eval_data=data[:, \"test\"],\n",
    "    eval_heads=[\"emotion\"],\n",
    "    compute_metrics=compute_classification_metrics,\n",
    "    args=training_args,\n",
    ")\n",
    "trainer.train()"
   ]
  },
  {
   "cell_type": "code",
   "execution_count": null,
   "id": "689b6eba-0d67-4f59-b828-061d46c0118b",
   "metadata": {},
   "outputs": [],
   "source": []
  }
 ],
 "metadata": {
  "kernelspec": {
   "display_name": "Python 3 (ipykernel)",
   "language": "python",
   "name": "python3"
  },
  "language_info": {
   "codemirror_mode": {
    "name": "ipython",
    "version": 3
   },
   "file_extension": ".py",
   "mimetype": "text/x-python",
   "name": "python",
   "nbconvert_exporter": "python",
   "pygments_lexer": "ipython3",
   "version": "3.8.10"
  }
 },
 "nbformat": 4,
 "nbformat_minor": 5
}
